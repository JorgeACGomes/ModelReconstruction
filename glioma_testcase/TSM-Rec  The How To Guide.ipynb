{
 "cells": [
  {
   "cell_type": "markdown",
   "metadata": {},
   "source": [
    "# **TSM-Rec: The comprehensive how to guide**\n",
    "\n",
    "In this guide two example pipelines will be described. The first one is a general pipeline using omics data from the Human Protein Atlas database [1], and the second is the pipeline followed to generate three glioma models.\n",
    "\n",
    "_Notes:_\n",
    "The reconstruction steps here taken use as template the metabolic model Recon 2 [2] and using an implementation of the FASTCORE algorithm published in [3].\n",
    "\n",
    "\n",
    "_References:_\n",
    "1. [1] https://www.proteinatlas.org/\n",
    "2. [2] https://www.nature.com/articles/nbt.2488\n",
    "3. [3] https://journals.plos.org/ploscompbiol/article?id=10.1371/journal.pcbi.1003424\n",
    "4. [4] https://www.ncbi.nlm.nih.gov/geo/query/acc.cgi?acc=GSE108476\n",
    "\n",
    "\n",
    "## **Step 0 - Installation**\n",
    "\n",
    "Install TSM-Rec by downloading it from github (https://github.com/JorgeACGomes/TSM-Rec)\n",
    "\n",
    "Make sure you have its dependencies installed:\n",
    "1. framed package (https://github.com/cdanielmachado/framed)\n",
    "2. optlang package (https://github.com/biosustain/optlang)\n",
    "3. one of the following mathematical solvers:\n",
    "    - cplex (https://www.ibm.com/customer-engagement/commerce)\n",
    "    - gurobi (http://www.gurobi.com/)\n",
    "    - glpk (https://www.gnu.org/software/glpk/)\n",
    "    \n",
    "\n",
    "Additionally it is needed to add TSM-Rec to the systems' file PATH. To do so execute the following:"
   ]
  },
  {
   "cell_type": "code",
   "execution_count": 1,
   "metadata": {},
   "outputs": [],
   "source": [
    "import os, sys\n",
    "\n",
    "# the tsm_path variable must be filled with the complete file path to the TSM-Rec folder downloaded by the user which can look\n",
    "# like : C:\\\\Users\\\\Username\\\\Downloads\\\\TSM-Rec\n",
    "tsm_path = \"path\\\\to\\\\Tsm-Rec\\\\folder\\\\on\\\\user\\\\computer\" \n",
    "upper = ''.join([str(x) + '\\\\' for x in tsm_path.split('\\\\')[:-1]]).strip('\\\\')\n",
    "sys.path.append(upper)\n",
    "sys.path.append(tsm_path)"
   ]
  },
  {
   "cell_type": "markdown",
   "metadata": {},
   "source": [
    "## **Step 1 - Using TSM-Rec: Example breast cancer model **\n",
    "\n",
    "### ** Step 1.1 - Imports **\n",
    "\n",
    "In this step we load into a Python console/ editor or Jupyter notebook all of the needed packages and modules that are needed to run the TSM-Rec tool.\n",
    "\n",
    "Just copy the following commands and paste it on your Python run environment."
   ]
  },
  {
   "cell_type": "code",
   "execution_count": 2,
   "metadata": {},
   "outputs": [],
   "source": [
    "from framed import simplify, load_cbmodel\n",
    "from TsmRec.src import main\n",
    "\n",
    "# readers \n",
    "from TsmRec.src.readers.probe_reader import ProbeReader\n",
    "from TsmRec.src.readers.hpa_reader import HpaReader\n",
    "from TsmRec.src.readers.generic_reader import GenericReader\n",
    "\n",
    "# omics\n",
    "from TsmRec.src.omics.omics_container import OmicsContainer\n",
    "from TsmRec.src.omics.integrate import integrateOmics\n",
    "\n",
    "# reconstruction\n",
    "from TsmRec.src.reconstruction.fastcore import Fastcore\n",
    "from TsmRec.src.reconstruction.configuration import Configuration\n"
   ]
  },
  {
   "cell_type": "markdown",
   "metadata": {},
   "source": [
    "### ** Step 1.2 - Loading omics data **\n",
    "\n",
    "In this example we will be using omics data from the _pathology.tsv_ file from the HPA database. Therefore, the **HpaReader** is used. \n",
    "\n",
    "Before any further explanation, TSM-Rec classes and functions are well documented and its use is explained under the native _help_ command in python. Namely, information about what arguments are required, and of what type must the arguments be.\n",
    "\n",
    "For example, if in doubt when using HpaReader:"
   ]
  },
  {
   "cell_type": "code",
   "execution_count": 3,
   "metadata": {},
   "outputs": [
    {
     "name": "stdout",
     "output_type": "stream",
     "text": [
      "Help on class HpaReader in module TsmRec.src.readers.hpa_reader:\n",
      "\n",
      "class HpaReader(builtins.object)\n",
      " |  Reads the HPA pathology.tsv file from a fpath in the system.\n",
      " |  Discrete values are converted to numerical and expression values account for the level with the most patients\n",
      " |  \n",
      " |  Methods defined here:\n",
      " |  \n",
      " |  __init__(self, fpath, tissue, id_col=0, includeNA=False)\n",
      " |      Args:\n",
      " |          fpath: string, complete path to the file from which omics data is read\n",
      " |          tissue: string, Exactly as in the file, regarding the column where expression values should be retrieved\n",
      " |          id_col: int, either 0 (=\"ensembl\") or 1(=\"gene_symbol\") regarding which column shall be used for gene id\n",
      " |          includeNA: boolean, flag if NA values should be included or not\n",
      " |  \n",
      " |  load(self)\n",
      " |      Executes the loading of supplied omics file.\n",
      " |      Returns: a dictionary of geneID: expressionValue\n",
      " |  \n",
      " |  ----------------------------------------------------------------------\n",
      " |  Data descriptors defined here:\n",
      " |  \n",
      " |  __dict__\n",
      " |      dictionary for instance variables (if defined)\n",
      " |  \n",
      " |  __weakref__\n",
      " |      list of weak references to the object (if defined)\n",
      "\n"
     ]
    }
   ],
   "source": [
    "help(HpaReader)"
   ]
  },
  {
   "cell_type": "markdown",
   "metadata": {},
   "source": [
    "So according to the above information, we need to provide the complete path to the _patholoy.tsv_ file and the tissue respective to which tissue we want to collect data from. The _pathology.tsv_ file is provided in the same folder as this guide.\n",
    "\n",
    "As for the _tissue_, \"breast cancer\" is used. Remaining arguments can be left to their default values."
   ]
  },
  {
   "cell_type": "code",
   "execution_count": 4,
   "metadata": {},
   "outputs": [],
   "source": [
    "hpa_path = \"path\\\\to\\\\hpa\\\\file\"\n",
    "\n",
    "tis = \"breast cancer\"\n",
    "\n",
    "hpa = HpaReader(fpath= hpa_path,tissue= tis)"
   ]
  },
  {
   "cell_type": "markdown",
   "metadata": {},
   "source": [
    "### ** Step 1.3 - Creating the empty omics container **\n",
    "\n",
    "To create the _OmicsContainer_ object we must provide the _type_ of omics data and the _condition_ of the samples.\n",
    "Omics data from the Hpa is retrieved from proteomics."
   ]
  },
  {
   "cell_type": "code",
   "execution_count": 5,
   "metadata": {
    "collapsed": true
   },
   "outputs": [],
   "source": [
    "om_cont = OmicsContainer(omicstype=\"proteomics\", condition=tis)"
   ]
  },
  {
   "cell_type": "markdown",
   "metadata": {},
   "source": [
    "### ** Step 1.4 - Loading the omics data to the container **\n",
    "\n",
    "In this step the user must provide the _hpa_ object created in **1.2**\n",
    "\n",
    "After loading the data, the user can obtain additional info on the _OmicsContainer_ object:"
   ]
  },
  {
   "cell_type": "code",
   "execution_count": 48,
   "metadata": {},
   "outputs": [
    {
     "name": "stdout",
     "output_type": "stream",
     "text": [
      "proteomics container\n",
      "Condition: breast cancer\n",
      "Nomenclature: ensembl_gene_id\n",
      "15317 Expression Values\n"
     ]
    }
   ],
   "source": [
    "om_cont.load(hpa)\n",
    "print(om_cont)"
   ]
  },
  {
   "cell_type": "markdown",
   "metadata": {},
   "source": [
    "### ** Step 1.5 - Filtering and transformation procedures **\n",
    "\n",
    "Since the omics data from HPA are factored in discrete values we must convert those to numeric. The _convertValues_ method of the _OmicsContainer_ object handles this task."
   ]
  },
  {
   "cell_type": "code",
   "execution_count": 49,
   "metadata": {},
   "outputs": [
    {
     "name": "stdout",
     "output_type": "stream",
     "text": [
      "Value conversion is complete!\n"
     ]
    }
   ],
   "source": [
    "mapping = {'High': 20.0, 'Medium': 15.0, 'Low': 10.0, 'Not detected': -8.0}\n",
    "om_cont.convertValues(mapping)"
   ]
  },
  {
   "cell_type": "markdown",
   "metadata": {},
   "source": [
    "### ** Step 1.6 - Loading and simplification of the metabolic model **\n",
    "\n",
    "In this step the metabolic model Recon 2 will be loaded by the framed packaged, and flux-inconsistent reactions will be removed, a process known as simplification.\n",
    "\n",
    "The user must provide the complete path to the Recon 2 model file, which is also supplied in the same folder as this guide."
   ]
  },
  {
   "cell_type": "code",
   "execution_count": 14,
   "metadata": {
    "collapsed": true
   },
   "outputs": [],
   "source": [
    "path_recon2 = \"path//to//recon2\"\n",
    "\n",
    "recon2 = load_cbmodel(path_recon2)"
   ]
  },
  {
   "cell_type": "code",
   "execution_count": 17,
   "metadata": {
    "collapsed": true
   },
   "outputs": [],
   "source": [
    "simplify(recon2, inplace = True)"
   ]
  },
  {
   "cell_type": "markdown",
   "metadata": {},
   "source": [
    "### ** Step 1.7 - Integration of the omics data with the metabolic model **\n",
    "\n",
    "After the omics data and the metabolic model are loaded its time to integrate the omics data with the metabolic model. To do so the user must use the _integrateOmics_ function. The user must only provide the _recon2_ and the *om_cont* instances previously created.\n",
    "\n",
    "Since this function returns an _OmicsDataMap_ the user must store the execution of this command in a variable, as follows:"
   ]
  },
  {
   "cell_type": "code",
   "execution_count": 50,
   "metadata": {},
   "outputs": [
    {
     "name": "stdout",
     "output_type": "stream",
     "text": [
      "ID conversion is complete! 133 entries were lost due to inexistent match in the HGNC platform\n",
      "3051\n",
      "('R_13DAMPPOX', 10.0)\n",
      "('R_24_25VITD2Hm', -8.0)\n",
      "('R_24_25VITD3Hm', -8.0)\n",
      "('R_2AMADPTm', -8.0)\n",
      "('R_2HBO', 20.0)\n",
      "('R_2HBt2', 15.0)\n",
      "('R_2HCO3_NAt', 15.0)\n",
      "('R_2OXOADOXm', 15.0)\n",
      "('R_2OXOADPTm', -8.0)\n",
      "('R_34DHOXPEGOX', -8.0)\n"
     ]
    }
   ],
   "source": [
    "om_datamap = integrateOmics(recon2, om_cont);\n",
    "\n",
    "# gathering more info about the OmicsDataMap\n",
    "print(len(om_datamap.get_scores()))\n",
    "\n",
    "for i in range(10):\n",
    "    print(list(om_datamap.get_scores().items())[i])"
   ]
  },
  {
   "cell_type": "markdown",
   "metadata": {},
   "source": [
    "### ** Step 1.8 - Filtering the omics data map **\n",
    "\n",
    "As shown with a sample of the *om_datamap* it still contains reactions which expression value is negative. Looking at **1.5** we can see that those negative values translate into \"Not-Detected\". To produce an accurate model the user must exclude reactions with low evidence. Here we chose to keep those with scores of 15 and above."
   ]
  },
  {
   "cell_type": "code",
   "execution_count": 43,
   "metadata": {},
   "outputs": [
    {
     "data": {
      "text/plain": [
       "1459"
      ]
     },
     "execution_count": 43,
     "metadata": {},
     "output_type": "execute_result"
    }
   ],
   "source": [
    "om_datamap = om_datamap.select('above', 15)\n",
    "len(om_datamap)"
   ]
  },
  {
   "cell_type": "markdown",
   "metadata": {},
   "source": [
    "At the end of this step there are 1459 reactions (out of 3051) that will be used for the reconstruction of the breast cancer. model"
   ]
  },
  {
   "cell_type": "markdown",
   "metadata": {},
   "source": [
    "### ** Step 1.9 - Creating the configuration object **\n",
    "\n",
    "At this step the user must create a _Configuration_ instance that will provide the configuration parameters to the reconstruction algorithm.\n",
    "\n",
    "\"cplex\" was chosen as the solver, \"flux_threshold\" was set as 10^-4, and -1000 and 1000 were chosen as the lower and upper bounds.\n"
   ]
  },
  {
   "cell_type": "code",
   "execution_count": 53,
   "metadata": {
    "collapsed": true
   },
   "outputs": [],
   "source": [
    "conf= Configuration(solver=\"cplex\", flux_threshold=1*10**-4 ,lb=-1000, ub=1000)"
   ]
  },
  {
   "cell_type": "markdown",
   "metadata": {},
   "source": [
    "### ** Step 1.10 - Reconstruction of the breast cancer metabolic model **\n",
    "\n",
    "To accomplish the final task the user must provide to the _Fastcore_ object the previously created *om_datamap*,*config* and *recon2*. Additionally the user must input the *scaling_factor* which was set as 10^5 according to the reccomendations in [3].\n",
    "\n",
    "Since the model was previously simplified , the _simplified_ argument is set as True.\n",
    "\n",
    "After creating a _Fastcore_ instance, the reconstruction is done by the _generateModel_ method."
   ]
  },
  {
   "cell_type": "code",
   "execution_count": 55,
   "metadata": {},
   "outputs": [
    {
     "name": "stdout",
     "output_type": "stream",
     "text": [
      "Consistent input network has N= 5837\n",
      "N:5837, J:1955, P:2786\n",
      "J: 529 A: 4204\n",
      "J: 97 A: 4210\n",
      "J: 91 A: 4210\n",
      "J: 91 A: 4220\n",
      "J: 89 A: 4220\n",
      "J: 89 A: 4220\n",
      "J: 89 A: 4230\n",
      "J: 80 A: 4243\n",
      "J: 68 A: 4245\n",
      "J: 66 A: 4276\n",
      "J: 37 A: 4277\n",
      "J: 36 A: 4280\n",
      "J: 35 A: 4284\n",
      "J: 33 A: 4285\n",
      "J: 32 A: 4287\n",
      "J: 30 A: 4289\n",
      "J: 28 A: 4291\n",
      "J: 26 A: 4293\n",
      "J: 24 A: 4299\n",
      "J: 21 A: 4300\n",
      "J: 20 A: 4302\n",
      "J: 18 A: 4305\n",
      "J: 15 A: 4306\n",
      "J: 14 A: 4309\n",
      "J: 11 A: 4313\n",
      "J: 9 A: 4317\n",
      "J: 7 A: 4318\n",
      "J: 6 A: 4321\n",
      "J: 4 A: 4323\n",
      "J: 3 A: 4324\n",
      "J: 2 A: 4325\n",
      "J: 1 A: 4326\n"
     ]
    },
    {
     "data": {
      "text/plain": [
       "<framed.model.cbmodel.CBModel at 0x22bae403630>"
      ]
     },
     "execution_count": 55,
     "metadata": {},
     "output_type": "execute_result"
    }
   ],
   "source": [
    "fast = Fastcore(model=recon2,config=conf, dataMap=om_datamap, simplified=True, scaling_factor=1*10**5)\n",
    "\n",
    "fast.generateModel()"
   ]
  },
  {
   "cell_type": "markdown",
   "metadata": {},
   "source": [
    "The generated model in the above step can be accessed on the *specific_model* attribute of the *fast* object."
   ]
  },
  {
   "cell_type": "code",
   "execution_count": 57,
   "metadata": {},
   "outputs": [
    {
     "name": "stdout",
     "output_type": "stream",
     "text": [
      "Number of reactions in the Breast Cancer model: 4326\n"
     ]
    }
   ],
   "source": [
    "num_reacs = len(fast.specific_model.reactions)\n",
    "print('Number of reactions in the Breast Cancer model:', num_reacs)"
   ]
  },
  {
   "cell_type": "markdown",
   "metadata": {},
   "source": [
    "Additionally, the generated model can be stored in a sbml file. To do so the user must do as follows:"
   ]
  },
  {
   "cell_type": "code",
   "execution_count": 58,
   "metadata": {
    "collapsed": true
   },
   "outputs": [],
   "source": [
    "brca_model = \"breast_cancer_hpa_fastcore.sbml\"  # provide the location and the name for the destination file here\n",
    "fast.toSBML(brca_model)"
   ]
  },
  {
   "cell_type": "markdown",
   "metadata": {},
   "source": [
    "## **Step 2 - Using TSM-Rec: Glioma Test-Case **\n",
    "\n",
    "In this section the case-study carried on the Thesis that led to this tool is explained.\n",
    "Once again FASTCORE was used and omics data were retrieved from the REMBRANDT study [4].\n",
    "Omics data were pre-processed before being used as input to the TSM-Rec tool. Omics files used as input are supplied in the same folder as this guide.\n",
    "\n",
    "Since the basics and the general steps were already overhauled previously, this next section is more summarized.\n",
    "Accordingly, the pipeline only resembles the reconstruction of the glioma grade II model. The remaining 2 models can be obtained by following the same steps using a different input file in step **2.1**."
   ]
  },
  {
   "cell_type": "markdown",
   "metadata": {},
   "source": [
    "## **Step 2.1 - Loading omics data **\n",
    "The omics data are loaded with the *Probe_Reader* object, supplying the annotation file GPL570."
   ]
  },
  {
   "cell_type": "code",
   "execution_count": 62,
   "metadata": {},
   "outputs": [],
   "source": [
    "# file paths\n",
    "grade2 = \"path\\\\to\\\\grade2\\\\omics\"\n",
    "grade2 = \"C:\\\\Users\\\\Tese_Avoid_Namespaces\\\\Tese\\\\TsmRec\\\\files\\\\rembrandt_study\\\\calls grade 2_pval_10_20.csv\"\n",
    "grade3 = \"path\\\\to\\\\grade3\\\\omics\"\n",
    "grade4 = \"path\\\\to\\\\grade4\\\\omics\"\n",
    "gpl570 = \"path\\\\to\\\\gpl570\\\\file\"\n",
    "gpl570 = \"C:\\\\Users\\\\Tese_Avoid_Namespaces\\\\Tese\\\\TsmRec\\\\files\\\\rembrandt_study\\\\HG-U133_Plus_2.na35.annot.csv\"\n",
    "\n",
    "probe = ProbeReader(fPath=grade2, expCol=1, convTarget=\"Gene Symbol\", annotFile=gpl570)"
   ]
  },
  {
   "cell_type": "markdown",
   "metadata": {},
   "source": [
    "## **Step 2.2 - Creating the empty OmicsContainer and loading the omics into it **\n"
   ]
  },
  {
   "cell_type": "code",
   "execution_count": 63,
   "metadata": {
    "collapsed": true
   },
   "outputs": [],
   "source": [
    "oc = OmicsContainer(condition='Glioma grade II', omicstype='Transcriptomics')\n",
    "oc.load(probe)"
   ]
  },
  {
   "cell_type": "markdown",
   "metadata": {},
   "source": [
    "## **Step 2.3 - Integration of omics data with metabolic model **\n",
    "\n",
    "Filtering and transformation steps are skipped here because the omics data are already pre-processed and ready to use.\n",
    "Since the metabolic model was already loaded and simplified in **1.8** these steps were also skipped."
   ]
  },
  {
   "cell_type": "code",
   "execution_count": 65,
   "metadata": {},
   "outputs": [
    {
     "name": "stdout",
     "output_type": "stream",
     "text": [
      "383\n"
     ]
    }
   ],
   "source": [
    "glioma_datamap = integrateOmics(recon2, oc)\n",
    "print(len(glioma_datamap.get_scores()))"
   ]
  },
  {
   "cell_type": "markdown",
   "metadata": {},
   "source": [
    "The *glioma_datamap* is composed of 383 reactions that will be used as input to the FASTCORE reconstruction algorithm. Once again, since these data were previously pre-processed, there is no need to further select the data like in step **1.8**."
   ]
  },
  {
   "cell_type": "markdown",
   "metadata": {},
   "source": [
    "## **Step 2.4 - Configuration file **\n",
    "\n",
    "The configuration parameters used in this test-case were the same as the ones mentioned in step **1.9**.\n",
    "Therefore there is no need to create another _configuration_ instance. However, if the user did not create said instance , execute the commands in step **1.9**.\n"
   ]
  },
  {
   "cell_type": "markdown",
   "metadata": {},
   "source": [
    "## **Step 2.5 - Reconstruction of the Glioma metabolic models **\n",
    "\n",
    "As mentioned in **2**, at the end of this step only one metabolic model of glioma will be reconstructed (grade II), therefore to generate the 3 models the user must repeat the steps from **2.1** to **2.5** three times, using the different omics files as input.\n"
   ]
  },
  {
   "cell_type": "code",
   "execution_count": 67,
   "metadata": {},
   "outputs": [
    {
     "name": "stdout",
     "output_type": "stream",
     "text": [
      "Consistent input network has N= 5837\n",
      "N:5837, J:241, P:5454\n",
      "J: 83 A: 1495\n",
      "J: 7 A: 1495\n",
      "J: 7 A: 1507\n",
      "J: 4 A: 1507\n",
      "J: 4 A: 1507\n",
      "J: 4 A: 1528\n"
     ]
    },
    {
     "data": {
      "text/plain": [
       "<framed.model.cbmodel.CBModel at 0x22bced2a8d0>"
      ]
     },
     "execution_count": 67,
     "metadata": {},
     "output_type": "execute_result"
    }
   ],
   "source": [
    "fast_gliomaII = Fastcore(model=recon2, config=conf, dataMap=glioma_datamap, simplified=True, scaling_factor=1*10**5)\n",
    "\n",
    "fast_gliomaII.generateModel()"
   ]
  },
  {
   "cell_type": "code",
   "execution_count": 69,
   "metadata": {},
   "outputs": [
    {
     "name": "stdout",
     "output_type": "stream",
     "text": [
      "1528\n"
     ]
    }
   ],
   "source": [
    "gliomaIImodel = fast_gliomaII.specific_model\n",
    "print(len(gliomaIImodel.reactions))"
   ]
  }
 ],
 "metadata": {
  "kernelspec": {
   "display_name": "Python 3",
   "language": "python",
   "name": "python3"
  },
  "language_info": {
   "codemirror_mode": {
    "name": "ipython",
    "version": 3
   },
   "file_extension": ".py",
   "mimetype": "text/x-python",
   "name": "python",
   "nbconvert_exporter": "python",
   "pygments_lexer": "ipython3",
   "version": "3.6.3"
  }
 },
 "nbformat": 4,
 "nbformat_minor": 2
}
